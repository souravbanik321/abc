{
 "cells": [
  {
   "cell_type": "markdown",
   "id": "ec45fb7b-42ec-4955-999a-1d132ce35a2b",
   "metadata": {},
   "source": [
    "Q1. What are the characteristics of the tuples? Is tuple immutable?"
   ]
  },
  {
   "cell_type": "raw",
   "id": "5c3e281a-d0bb-4ba0-9069-e4f9714351d3",
   "metadata": {},
   "source": [
    "Tuples are ordered collections of elements, similar to lists, but with some important differences. Some characteristics of tuples are:\n",
    "\n",
    "1. Tuples are ordered: Like lists, tuples are ordered, meaning that the elements in a tuple are arranged in a specific order.\n",
    "\n",
    "2. Tuples are indexed: Each element in a tuple can be accessed by its index, which starts from 0.\n",
    "\n",
    "3. Tuples can contain any type of data: A tuple can contain elements of different data types, such as strings, numbers, and other tuples.\n",
    "\n",
    "4. Tuples are immutable: Unlike lists, tuples are immutable, meaning that once a tuple is created, its elements cannot be modified or deleted. However, it is possible to create a new tuple by concatenating or slicing existing tuples.\n",
    "\n",
    "\n",
    "yes, tuples are immutable. Once a tuple is created, its elements cannot be modified or deleted. This means that you cannot add, remove or change elements of a tuple. However, you can create a new tuple by concatenating or slicing existing tuples.\n"
   ]
  },
  {
   "cell_type": "markdown",
   "id": "023242cd-1389-42a6-9499-e5c4762dbb0a",
   "metadata": {},
   "source": [
    "Q2. What are the two tuple methods in python? Give an example of each method. Give a reason why\n",
    "tuples have only two in-built methods as compared to Lists."
   ]
  },
  {
   "cell_type": "raw",
   "id": "1e12907d-439f-409f-8263-931335206f40",
   "metadata": {},
   "source": [
    " In Python, tuples have two built-in methods: count and index.\n",
    "\n",
    "1. count method: The count method returns the number of times a specified element appears in the tuple. \n",
    " \n",
    "The syntax for the count method is:\n",
    "\n",
    "tuple.count(element)\n",
    "\n",
    "Here's an example:\n"
   ]
  },
  {
   "cell_type": "code",
   "execution_count": 20,
   "id": "7d11cb44-52ac-4b15-89b5-ccb24c05bc39",
   "metadata": {},
   "outputs": [
    {
     "name": "stdout",
     "output_type": "stream",
     "text": [
      "3\n"
     ]
    }
   ],
   "source": [
    "my_tuple = (1, 2, 3, 4, 4, 5, 4)\n",
    "print(my_tuple.count(4))"
   ]
  },
  {
   "cell_type": "raw",
   "id": "ff7869e0-74a7-4b95-94d0-519f8c44d550",
   "metadata": {},
   "source": [
    "2. index method: The index method returns the index of the first occurrence of a specified element in the tuple.\n",
    "\n",
    "The syntax for the index method is:\n",
    "\n",
    "tuple.index(element)\n",
    "\n",
    "Here's an example:"
   ]
  },
  {
   "cell_type": "code",
   "execution_count": 21,
   "id": "865bba21-022b-4dd1-be1c-b628e3d625bc",
   "metadata": {},
   "outputs": [
    {
     "name": "stdout",
     "output_type": "stream",
     "text": [
      "2\n"
     ]
    }
   ],
   "source": [
    "my_tuple = (1, 2, 3, 4, 5)\n",
    "print(my_tuple.index(3))"
   ]
  },
  {
   "cell_type": "markdown",
   "id": "d5a59459-fc9e-4f8f-a708-5fea8b91464e",
   "metadata": {},
   "source": [
    "The reason why tuples have only two built-in methods as compared to lists is that tuples are immutable, while lists are mutable. Because tuples are immutable, there is no need for methods that modify the tuple in place, such as append, insert, or remove, as these methods would not work with an immutable data structure. Instead, the two built-in methods for tuples focus on accessing and counting elements within the tuple. In contrast, lists have many built-in methods that allow for modifying, sorting, and searching the list, as lists are mutable "
   ]
  },
  {
   "cell_type": "raw",
   "id": "72db895f-8656-4cfa-90c4-3eb420565877",
   "metadata": {},
   "source": [
    "Q3. Which collection datatypes in python do not allow duplicate items? Write a code using a set to remove\n",
    "duplicates from the given list.\n",
    "List = [1, 1, 1, 2, 1, 3, 1, 4, 2, 1, 2, 2, 2, 3, 2, 4, 3, 1, 3, 2, 3, 3, 3, 4, 4, 1, 4, 2, 4, 3, 4, 4]"
   ]
  },
  {
   "cell_type": "raw",
   "id": "ec12f41a-00a2-4259-a2b8-833778689181",
   "metadata": {},
   "source": [
    "The collection datatype in Python that does not allow duplicate items is the set. Sets are unordered collections of unique elements. When creating a set, any duplicate items are automatically removed. This means that each item in a set is unique.\n",
    "\n",
    "In addition to sets, another collection datatype in Python that does not allow duplicate keys is the dictionary. Although dictionary keys must be unique, dictionary values can be duplicated."
   ]
  },
  {
   "cell_type": "code",
   "execution_count": 22,
   "id": "22644da5-5595-402a-8e13-ad91113358ab",
   "metadata": {},
   "outputs": [
    {
     "name": "stdout",
     "output_type": "stream",
     "text": [
      "[1, 2, 3, 4]\n"
     ]
    }
   ],
   "source": [
    "my_list = [1, 1, 1, 2, 1, 3, 1, 4, 2, 1, 2, 2, 2, 3, 2, 4, 3, 1, 3, 2, 3, 3, 3, 4, 4, 1, 4, 2, 4, 3, 4, 4]\n",
    "\n",
    "my_set = set(my_list)  # convert the list to a set\n",
    "\n",
    "my_new_list = list(my_set)  # convert the set back to a list\n",
    "\n",
    "print(my_new_list)"
   ]
  },
  {
   "cell_type": "markdown",
   "id": "28c08119-5d41-4225-b5f2-2e72cb1dc529",
   "metadata": {},
   "source": [
    "Q4. Explain the difference between the union() and update() methods for a set. Give an example of\n",
    "each method."
   ]
  },
  {
   "cell_type": "raw",
   "id": "9e5c2b99-b535-458d-8db5-fbc27bdc58f6",
   "metadata": {},
   "source": [
    "Both union() and update() methods are used to combine two sets into a new set, but they differ in how they achieve this.\n",
    "\n",
    "union() method returns a new set that contains all the unique elements from both sets. The original sets remain unchanged. The union() method can take one or more sets as arguments and returns a new set that contains all the unique elements from all the sets.\n",
    "\n",
    "On the other hand, the update() method modifies the original set by adding all the elements from another set to it. The update() method can also take one or more sets as arguments."
   ]
  },
  {
   "cell_type": "code",
   "execution_count": 23,
   "id": "0696df27-bf7e-498b-bba0-d0ad47ff32bf",
   "metadata": {},
   "outputs": [],
   "source": [
    "List = [1, 1, 1, 2, 1, 3, 1, 4, 2, 1, 2, 2, 2, 3, 2, 4, 3, 1, 3, 2, 3, 3, 3, 4, 4, 1, 4, 2, 4, 3, 4, 4]"
   ]
  },
  {
   "cell_type": "code",
   "execution_count": 24,
   "id": "9cacea07-792c-46a5-93fa-faa40955e8b6",
   "metadata": {},
   "outputs": [
    {
     "name": "stdout",
     "output_type": "stream",
     "text": [
      "{1, 2, 3, 4}\n"
     ]
    }
   ],
   "source": [
    "dup_items = set()\n",
    "uniq_items = []\n",
    "for x in List:\n",
    "    if x not in dup_items:\n",
    "        uniq_items.append(x)\n",
    "        dup_items.add(x)\n",
    "\n",
    "print(dup_items)"
   ]
  },
  {
   "cell_type": "markdown",
   "id": "752e31a9-35a4-452f-ae94-f617bdb12901",
   "metadata": {},
   "source": [
    "The union() method returns a set that contains all items from the original set, and all items from the specified set(s)."
   ]
  },
  {
   "cell_type": "code",
   "execution_count": 25,
   "id": "df9aee16-c1ba-43bc-8716-297ec3546467",
   "metadata": {},
   "outputs": [
    {
     "name": "stdout",
     "output_type": "stream",
     "text": [
      "A U B =  {'bangalore', 'kolkata', 'delhi', 'mumbai'}\n"
     ]
    }
   ],
   "source": [
    "#example union() method\n",
    "A = {'delhi', 'kolkata', 'mumbai'}\n",
    "B = {'kolkata', 'bangalore', 'delhi'}\n",
    "\n",
    "# compute union between A and B\n",
    "print('A U B = ', A.union(B))"
   ]
  },
  {
   "cell_type": "markdown",
   "id": "3f4a3300-1daa-45e1-8b53-988bb6bcc6b1",
   "metadata": {},
   "source": [
    "The update() method updates the dictionary with the elements from another dictionary object or from an iterable of key/value pairs."
   ]
  },
  {
   "cell_type": "code",
   "execution_count": 26,
   "id": "75f31b08-a818-4f11-9fc9-eaa9534ba294",
   "metadata": {},
   "outputs": [
    {
     "name": "stdout",
     "output_type": "stream",
     "text": [
      "Before update subject marks {'Physics': 67, 'Maths': 87}\n",
      "After update subject marks {'Physics': 67, 'Maths': 87, 'Practical': 48}\n"
     ]
    }
   ],
   "source": [
    "#example update method\n",
    "subject_marks = {'Physics':67, 'Maths':87}\n",
    "internal_marks = {'Practical':48}\n",
    "print(\"Before update subject marks\",subject_marks)\n",
    "\n",
    "subject_marks.update(internal_marks)\n",
    "\n",
    "\n",
    "print(\"After update subject marks\",subject_marks)"
   ]
  },
  {
   "cell_type": "markdown",
   "id": "29588cc2-9247-4272-a646-8bebd94dfef4",
   "metadata": {},
   "source": [
    "Q5. What is a dictionary? Give an example. Also, state whether a dictionary is ordered or unordered."
   ]
  },
  {
   "cell_type": "markdown",
   "id": "3b33d675-42d1-448c-b43b-b1ff187b93c8",
   "metadata": {},
   "source": [
    "The dictionary is an unordered collection that contains key:value pairs separated by commas inside curly brackets. Dictionaries are optimized to retrieve values when the key is known."
   ]
  },
  {
   "cell_type": "code",
   "execution_count": 27,
   "id": "ab088498-001e-486c-9256-06c21fbb27bb",
   "metadata": {},
   "outputs": [
    {
     "name": "stdout",
     "output_type": "stream",
     "text": [
      "{'USA': 'Washington D.C.', 'France': 'Paris', 'India': 'New Delhi'}\n"
     ]
    }
   ],
   "source": [
    "#The following declares a dictionary object.\n",
    "#Example: Dictionary\n",
    "capitals = {\"USA\":\"Washington D.C.\", \"France\":\"Paris\", \"India\":\"New Delhi\"}\n",
    "print(capitals)"
   ]
  },
  {
   "cell_type": "markdown",
   "id": "0895a08a-6eb7-4375-b053-0501f7fce478",
   "metadata": {},
   "source": [
    "Q6. Can we create a nested dictionary? If so, please give an example by creating a simple one-level\n",
    "nested dictionary."
   ]
  },
  {
   "cell_type": "markdown",
   "id": "62968df2-aa75-4fe1-b234-caa7be4f39a2",
   "metadata": {},
   "source": [
    "yes,In Python, a nested dictionary is a dictionary inside a dictionary. Basically, it is a collection of dictionaries kept inside a single dictionary.\n",
    "Nested dictionaries are one of the ways to represent and store structured information (similar to some ‘records’ in other languages)."
   ]
  },
  {
   "cell_type": "code",
   "execution_count": 28,
   "id": "4e81f820-245e-4539-84bb-ee3ae138d44c",
   "metadata": {},
   "outputs": [],
   "source": [
    "clg = {'student1': {'name': 'AKASH GHOSH', 'roll': '1', 'class': 'CST'},\n",
    "     'student2': {'name': 'ARITRA GHOSH', 'roll': '2', 'class': 'CST'},\n",
    "     'student3': {'name': 'AYAN', 'roll': '3', 'class': 'CST'}}"
   ]
  },
  {
   "cell_type": "code",
   "execution_count": 29,
   "id": "0d5cb50c-5a75-4f44-b4c2-625e3a3b9b05",
   "metadata": {},
   "outputs": [
    {
     "name": "stdout",
     "output_type": "stream",
     "text": [
      "{'student1': {'name': 'AKASH GHOSH', 'roll': '1', 'class': 'CST'}, 'student2': {'name': 'ARITRA GHOSH', 'roll': '2', 'class': 'CST'}, 'student3': {'name': 'AYAN', 'roll': '3', 'class': 'CST'}}\n"
     ]
    }
   ],
   "source": [
    "print(clg)"
   ]
  },
  {
   "cell_type": "markdown",
   "id": "a3efeb78-f2b7-47e0-8e84-4354601cc013",
   "metadata": {},
   "source": [
    "Q7. Using setdefault() method, create key named topics in the given dictionary and also add the value of\n",
    "the key as this list ['Python', 'Machine Learning’, 'Deep Learning']\n",
    "                                                                   \n",
    "dict1 = {'language' : 'Python', 'course': 'Data Science Masters'}"
   ]
  },
  {
   "cell_type": "code",
   "execution_count": 30,
   "id": "daa1e7c9-df6c-4c78-9a44-5709dfdb51de",
   "metadata": {},
   "outputs": [],
   "source": [
    "dict1 = {'language' : 'Python', 'course': 'Data Science Masters'}"
   ]
  },
  {
   "cell_type": "code",
   "execution_count": 31,
   "id": "0a01ef78-544f-417f-95ef-633ee3cb0c58",
   "metadata": {},
   "outputs": [
    {
     "name": "stdout",
     "output_type": "stream",
     "text": [
      "Dictionary before using setdefault(): {'language': 'Python', 'course': 'Data Science Masters'}\n"
     ]
    }
   ],
   "source": [
    "print(\"Dictionary before using setdefault():\", dict1)\n"
   ]
  },
  {
   "cell_type": "code",
   "execution_count": 32,
   "id": "d501950e-5a8b-43df-a1f0-a72c9cca8079",
   "metadata": {},
   "outputs": [
    {
     "name": "stdout",
     "output_type": "stream",
     "text": [
      "Python\n"
     ]
    }
   ],
   "source": [
    "ret_value = dict1.setdefault ('language',' ')\n",
    "print(ret_value)"
   ]
  },
  {
   "cell_type": "code",
   "execution_count": 33,
   "id": "f65c0e32-cbea-4242-b3fd-fe3ed6e81047",
   "metadata": {},
   "outputs": [
    {
     "data": {
      "text/plain": [
       "dict_values(['Python', 'Data Science Masters'])"
      ]
     },
     "execution_count": 33,
     "metadata": {},
     "output_type": "execute_result"
    }
   ],
   "source": [
    "dict1.values()"
   ]
  },
  {
   "cell_type": "code",
   "execution_count": 34,
   "id": "8f72a3ca-86ad-4175-8051-e7f197912956",
   "metadata": {},
   "outputs": [],
   "source": [
    "dict1 = {'language' : 'Python', 'course':[ 'Data Science Masters','Machine Learning','Deep Learning']}"
   ]
  },
  {
   "cell_type": "code",
   "execution_count": 35,
   "id": "966651f0-b396-4e23-8adc-103ace8a955a",
   "metadata": {},
   "outputs": [
    {
     "name": "stdout",
     "output_type": "stream",
     "text": [
      "{'language': 'Python', 'course': ['Data Science Masters', 'Machine Learning', 'Deep Learning']}\n"
     ]
    }
   ],
   "source": [
    "print(dict1)"
   ]
  },
  {
   "cell_type": "markdown",
   "id": "ebcd2a49-a2e8-4266-b1d3-08da825655d8",
   "metadata": {},
   "source": [
    "Q8. What are the three view objects in dictionaries? Use the three in-built methods in python to display\n",
    "these three view objects for the given dictionary.\n",
    "\n",
    "dict1 = {'Sport': 'Cricket' , 'Teams': ['India', 'Australia', 'England', 'South Africa', 'Sri Lanka', 'New Zealand']}"
   ]
  },
  {
   "cell_type": "code",
   "execution_count": 36,
   "id": "bffbee1d-3b2f-4729-8315-7fa8615a9be9",
   "metadata": {},
   "outputs": [
    {
     "name": "stdout",
     "output_type": "stream",
     "text": [
      "dict_keys(['Sport', 'Teams'])\n",
      "dict_values(['Cricket', ['India', 'Australia', 'England', 'South Africa', 'Sri Lanka', 'New Zealand']])\n",
      "dict_items([('Sport', 'Cricket'), ('Teams', ['India', 'Australia', 'England', 'South Africa', 'Sri Lanka', 'New Zealand'])])\n"
     ]
    }
   ],
   "source": [
    "dict1 = {'Sport': 'Cricket', 'Teams': ['India', 'Australia', 'England', 'South Africa', 'Sri Lanka', 'New Zealand']}\n",
    "\n",
    "# Displaying dict_keys view object\n",
    "print(dict1.keys())\n",
    "\n",
    "# Displaying dict_values view object\n",
    "print(dict1.values())\n",
    "\n",
    "# Displaying dict_items view object\n",
    "print(dict1.items())\n"
   ]
  },
  {
   "cell_type": "code",
   "execution_count": null,
   "id": "f8e36c29-b6f8-4243-b10d-5d45bed6bb35",
   "metadata": {},
   "outputs": [],
   "source": []
  }
 ],
 "metadata": {
  "kernelspec": {
   "display_name": "Python 3 (ipykernel)",
   "language": "python",
   "name": "python3"
  },
  "language_info": {
   "codemirror_mode": {
    "name": "ipython",
    "version": 3
   },
   "file_extension": ".py",
   "mimetype": "text/x-python",
   "name": "python",
   "nbconvert_exporter": "python",
   "pygments_lexer": "ipython3",
   "version": "3.10.8"
  }
 },
 "nbformat": 4,
 "nbformat_minor": 5
}
