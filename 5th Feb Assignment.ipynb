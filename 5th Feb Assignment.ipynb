{
 "cells": [
  {
   "cell_type": "markdown",
   "id": "71145573-e5df-44e0-894e-48a0b6bd80a6",
   "metadata": {},
   "source": [
    "Q1. Explain Class and Object with respect to Object-Oriented Programming. Give a suitable example."
   ]
  },
  {
   "cell_type": "markdown",
   "id": "ab5ef629-0d3c-44a3-98fe-40ccb2c144ec",
   "metadata": {},
   "source": [
    "Class are a blueprint or a set of instructions to build a specific type of object. It is a basic concept of Object-Oriented Programming which revolve around the real-life entities. \n",
    "Class in Java determines how an object will behave and what the object will contain.\n",
    "\n",
    "Syntax of Class in Object-Oriented Programming\n",
    "\n",
    "    class <class_name>{  \n",
    "    field;  \n",
    "    method;  \n",
    "      }\n",
    "  \n",
    "  \n",
    "  Object is an instance of a class. An object in OOPS is nothing but a self-contained component which consists of methods and properties to make a particular type of data useful.\n",
    "  \n",
    "Syntax of object in Object-Oriented Programming\n",
    "\n",
    "    ClassName ReferenceVariable = new ClassName();\n",
    "    "
   ]
  },
  {
   "cell_type": "code",
   "execution_count": 10,
   "id": "41557823-a74c-488d-b0a8-606008dd9a7f",
   "metadata": {},
   "outputs": [
    {
     "name": "stdout",
     "output_type": "stream",
     "text": [
      "Name: KOLKATA UNIVERSITY, Roll: 11 \n"
     ]
    }
   ],
   "source": [
    "# define a class\n",
    "class College:\n",
    "    name = \"\"\n",
    "    roll = 0\n",
    "\n",
    "# create object of class\n",
    "class1 = College()\n",
    "\n",
    "# access attributes and assign new values\n",
    "class1.roll = 11\n",
    "class1.name = \"KOLKATA UNIVERSITY\"\n",
    "\n",
    "print(f\"Name: {class1.name}, Roll: {class1.roll} \")\n"
   ]
  },
  {
   "cell_type": "markdown",
   "id": "6795db94-6e7c-485b-afc5-cfe6f2346c6d",
   "metadata": {},
   "source": [
    "Q2. Name the four pillars of OOPs."
   ]
  },
  {
   "cell_type": "code",
   "execution_count": null,
   "id": "35a7cb0f-c749-4cf6-90a2-ae7b83e55273",
   "metadata": {},
   "outputs": [],
   "source": [
    "The four pillars for Oops are:\n",
    "    \n",
    "1. Abstraction\n",
    "\n",
    "2. Encapsulation\n",
    "\n",
    "3. Inheritance\n",
    "\n",
    "4. Polymorphism\n"
   ]
  },
  {
   "cell_type": "markdown",
   "id": "b403b441-c3fb-43d8-8284-a155c475ea0e",
   "metadata": {},
   "source": [
    "Q3. Explain why the __init__() function is used. Give a suitable example."
   ]
  },
  {
   "cell_type": "markdown",
   "id": "606a6198-d6a4-42dd-9c6a-1b3bb4823ce0",
   "metadata": {},
   "source": [
    "Python supports both structured and object-oriented programming. The class and object are used to implement object-oriented programming. The class defines the properties of the object. The constructor method is used in object-oriented programming to declare, initialize and manipulate the object, and this method is called automatically when an object of the class is created. The __init__() function works like the constructor method in Python and it is declared inside the class.\n",
    "\n",
    "The syntax of the __init__() function is given below:\n",
    "\n",
    "    __init__(self, [arguments])\n",
    "\n",
    "The first argument of the function is used to refer to the current object of the class. The other arguments of this function are optional. Zero or more arguments can be used after the first argument \n",
    "to initialize the class variables."
   ]
  },
  {
   "cell_type": "code",
   "execution_count": 13,
   "id": "be15fe9a-1ed8-4994-8621-62ab30580dbb",
   "metadata": {},
   "outputs": [
    {
     "name": "stdout",
     "output_type": "stream",
     "text": [
      "I ran first\n",
      "I ran second\n",
      "Name: Audi R8\n"
     ]
    }
   ],
   "source": [
    "class Car:\n",
    "    def __init__(self, name):\n",
    "        self.name = name\n",
    "        print(\"I ran first\")\n",
    " \n",
    "    def product(self):\n",
    "        print(\"I ran second\")\n",
    "        return (\"Name: \" + self.name)\n",
    " \n",
    " \n",
    "C = Car('Audi R8')\n",
    "print(C.product())\n"
   ]
  },
  {
   "cell_type": "markdown",
   "id": "846d94e7-1f97-4749-ac8c-f222567464bc",
   "metadata": {},
   "source": [
    "Q4. Why self is used in OOPs?"
   ]
  },
  {
   "cell_type": "markdown",
   "id": "2c4b44d0-f80a-4d24-84b4-3ff1ee972dac",
   "metadata": {},
   "source": [
    "The self is used to represent the instance of the class. With this keyword, you can access the attributes and methods of the class in python. It binds the attributes with the given arguments. \n",
    "The reason why we use self is that Python does not use the ‘@’ syntax to refer to instance attributes. \n",
    "Example of code is given:"
   ]
  },
  {
   "cell_type": "code",
   "execution_count": 21,
   "id": "bc79c9a3-bbb1-4258-aa2b-8b5a04b3ae79",
   "metadata": {},
   "outputs": [
    {
     "name": "stdout",
     "output_type": "stream",
     "text": [
      "Hello my name is SOURAV BANIK\n"
     ]
    }
   ],
   "source": [
    "class Person:\n",
    "  def __init__(myObject, name, age):\n",
    "    myObject.name = name\n",
    "    myObject.age = age\n",
    "\n",
    "  def myfunc(abc):\n",
    "    print(\"Hello my name is \" + abc.name)\n",
    "\n",
    "p1 = Person(\"SOURAV BANIK\", 36)\n",
    "p1.myfunc()"
   ]
  },
  {
   "cell_type": "markdown",
   "id": "cbb24c7a-7852-4be3-8bf3-4bc1ae4b9b18",
   "metadata": {},
   "source": [
    "Q5. What is inheritance? Give an example for each type of inheritance."
   ]
  },
  {
   "cell_type": "markdown",
   "id": "179aed75-5669-44be-b25c-fc506498da83",
   "metadata": {},
   "source": [
    "Inheritance is a mechanism in which one class acquires the property of another class. For example, a child inherits the traits of his/her parents. \n",
    "With inheritance, we can reuse the fields and methods of the existing class. Hence, inheritance facilitates Reusability and is an important concept of OOPs.\n",
    "Types of Inheritance in Python are- 1. Single Inheritance  2. Multiple Inheritance  3. Multilevel Inheritance  4. Hierarchical Inheritance  5. Hybrid Inheritance"
   ]
  },
  {
   "cell_type": "code",
   "execution_count": 22,
   "id": "6d366777-4f5b-4989-a3e9-2fe081b928f3",
   "metadata": {},
   "outputs": [
    {
     "name": "stdout",
     "output_type": "stream",
     "text": [
      "This function is in parent class.\n",
      "This function is in child class.\n"
     ]
    }
   ],
   "source": [
    "# 1. single inheritance\n",
    "\n",
    "# Base class\n",
    "class Parent:\n",
    "\tdef func1(self):\n",
    "\t\tprint(\"This function is in parent class.\")\n",
    "\n",
    "# Derived class\n",
    "\n",
    "class Child(Parent):\n",
    "\tdef func2(self):\n",
    "\t\tprint(\"This function is in child class.\")\n",
    "\n",
    "\n",
    "# Driver's code\n",
    "object = Child()\n",
    "object.func1()\n",
    "object.func2()\n"
   ]
  },
  {
   "cell_type": "code",
   "execution_count": 25,
   "id": "7d68f54f-89cd-43b5-9e77-5d52affb4fe5",
   "metadata": {},
   "outputs": [
    {
     "name": "stdout",
     "output_type": "stream",
     "text": [
      "Father : BADAL BANIK\n",
      "Mother : RAMA BANIK\n"
     ]
    }
   ],
   "source": [
    "# 2. multiple inheritance\n",
    "\n",
    "# Base class1\n",
    "class Mother:\n",
    "\tmothername = \"\"\n",
    "\n",
    "\tdef mother(self):\n",
    "\t\tprint(self.mothername)\n",
    "\n",
    "# Base class2\n",
    "class Father:\n",
    "\tfathername = \"\"\n",
    "\n",
    "\tdef father(self):\n",
    "\t\tprint(self.fathername)\n",
    "\n",
    "# Derived class\n",
    "class Son(Mother, Father):\n",
    "\tdef parents(self):\n",
    "\t\tprint(\"Father :\", self.fathername)\n",
    "\t\tprint(\"Mother :\", self.mothername)\n",
    "\n",
    "# Driver's code\n",
    "s1 = Son()\n",
    "s1.fathername = \"BADAL BANIK\"\n",
    "s1.mothername = \"RAMA BANIK\"\n",
    "s1.parents()\n"
   ]
  },
  {
   "cell_type": "code",
   "execution_count": 26,
   "id": "5befbcc2-12ee-4602-995e-e491934364ef",
   "metadata": {},
   "outputs": [
    {
     "name": "stdout",
     "output_type": "stream",
     "text": [
      "Subal\n",
      "Grandfather name : Subal\n",
      "Father name : Badal\n",
      "Son name : Sourav\n"
     ]
    }
   ],
   "source": [
    "# 3. multilevel inheritance\n",
    "\n",
    "# Base class\n",
    "class Grandfather:\n",
    "\n",
    "\tdef __init__(self, grandfathername):\n",
    "\t\tself.grandfathername = grandfathername\n",
    "\n",
    "# Intermediate class\n",
    "class Father(Grandfather):\n",
    "\tdef __init__(self, fathername, grandfathername):\n",
    "\t\tself.fathername = fathername\n",
    "\n",
    "\t\t# invoking constructor of Grandfather class\n",
    "\t\tGrandfather.__init__(self, grandfathername)\n",
    "\n",
    "# Derived class\n",
    "class Son(Father):\n",
    "\tdef __init__(self, sonname, fathername, grandfathername):\n",
    "\t\tself.sonname = sonname\n",
    "\n",
    "\t\t# invoking constructor of Father class\n",
    "\t\tFather.__init__(self, fathername, grandfathername)\n",
    "\n",
    "\tdef print_name(self):\n",
    "\t\tprint('Grandfather name :', self.grandfathername)\n",
    "\t\tprint(\"Father name :\", self.fathername)\n",
    "\t\tprint(\"Son name :\", self.sonname)\n",
    "\n",
    "# Driver code\n",
    "s1 = Son('Sourav', 'Badal', 'Subal')\n",
    "print(s1.grandfathername)\n",
    "s1.print_name()\n"
   ]
  },
  {
   "cell_type": "code",
   "execution_count": 27,
   "id": "b2066f8e-a749-471a-9d9d-e2dcb9cc8649",
   "metadata": {},
   "outputs": [
    {
     "name": "stdout",
     "output_type": "stream",
     "text": [
      "This function is in parent class.\n",
      "This function is in child 1.\n",
      "This function is in parent class.\n",
      "This function is in child 2.\n"
     ]
    }
   ],
   "source": [
    "# 4. Hierarchical inheritance\n",
    "\n",
    "# Base class\n",
    "class Parent:\n",
    "\tdef func1(self):\n",
    "\t\tprint(\"This function is in parent class.\")\n",
    "\n",
    "# Derived class1\n",
    "class Child1(Parent):\n",
    "\tdef func2(self):\n",
    "\t\tprint(\"This function is in child 1.\")\n",
    "\n",
    "# Derivied class2\n",
    "class Child2(Parent):\n",
    "\tdef func3(self):\n",
    "\t\tprint(\"This function is in child 2.\")\n",
    "\n",
    "# Driver's code\n",
    "object1 = Child1()\n",
    "object2 = Child2()\n",
    "object1.func1()\n",
    "object1.func2()\n",
    "object2.func1()\n",
    "object2.func3()\n"
   ]
  },
  {
   "cell_type": "code",
   "execution_count": 28,
   "id": "88123cc8-d915-4446-a62d-1de36315d837",
   "metadata": {},
   "outputs": [
    {
     "name": "stdout",
     "output_type": "stream",
     "text": [
      "This function is in school.\n",
      "This function is in student 1. \n"
     ]
    }
   ],
   "source": [
    "# 5. hybrid inheritance\n",
    "\n",
    "class School:\n",
    "\tdef func1(self):\n",
    "\t\tprint(\"This function is in school.\")\n",
    "\n",
    "class Student1(School):\n",
    "\tdef func2(self):\n",
    "\t\tprint(\"This function is in student 1. \")\n",
    "\n",
    "class Student2(School):\n",
    "\tdef func3(self):\n",
    "\t\tprint(\"This function is in student 2.\")\n",
    "\n",
    "class Student3(Student1, School):\n",
    "\tdef func4(self):\n",
    "\t\tprint(\"This function is in student 3.\")\n",
    "\n",
    "# Driver's code\n",
    "object = Student3()\n",
    "object.func1()\n",
    "object.func2()\n"
   ]
  },
  {
   "cell_type": "code",
   "execution_count": null,
   "id": "bbd474a6-4c0a-42fe-b51b-618d401864c5",
   "metadata": {},
   "outputs": [],
   "source": []
  }
 ],
 "metadata": {
  "kernelspec": {
   "display_name": "Python 3 (ipykernel)",
   "language": "python",
   "name": "python3"
  },
  "language_info": {
   "codemirror_mode": {
    "name": "ipython",
    "version": 3
   },
   "file_extension": ".py",
   "mimetype": "text/x-python",
   "name": "python",
   "nbconvert_exporter": "python",
   "pygments_lexer": "ipython3",
   "version": "3.10.8"
  }
 },
 "nbformat": 4,
 "nbformat_minor": 5
}
