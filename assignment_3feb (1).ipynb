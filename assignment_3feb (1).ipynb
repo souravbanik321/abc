{
 "cells": [
  {
   "cell_type": "markdown",
   "id": "7a212917-5d64-42df-b3d4-f596df783a41",
   "metadata": {},
   "source": [
    "Q1. Which keyword is used to create a function? Create a function to return a list of odd numbers in the\n",
    "range of 1 to 25."
   ]
  },
  {
   "cell_type": "markdown",
   "id": "a132e401-ade3-415c-b1ec-ce3a8744fe00",
   "metadata": {},
   "source": [
    "The keyword used to create a function in Python is \"def\". "
   ]
  },
  {
   "cell_type": "markdown",
   "id": "824c4a29-3f94-4ab3-8faf-8c49fcc6c388",
   "metadata": {},
   "source": [
    "Here's an example of a function that returns a list of odd numbers in the range of 1 to 25:"
   ]
  },
  {
   "cell_type": "code",
   "execution_count": 3,
   "id": "9ac4605d-4000-4f17-8b06-c603f44805ab",
   "metadata": {},
   "outputs": [
    {
     "data": {
      "text/plain": [
       "[1, 3, 5, 7, 9, 11, 13, 15, 17, 19, 21, 23, 25]"
      ]
     },
     "execution_count": 3,
     "metadata": {},
     "output_type": "execute_result"
    }
   ],
   "source": [
    "def get_odd_numbers():\n",
    "    odd_numbers = []\n",
    "    for i in range(1, 26):\n",
    "        if i % 2 != 0:\n",
    "            odd_numbers.append(i)\n",
    "    return odd_numbers\n",
    "get_odd_numbers()"
   ]
  },
  {
   "cell_type": "markdown",
   "id": "3abe5277-7c68-45bf-93d2-f1ab3224fccd",
   "metadata": {},
   "source": [
    "Q2. Why *args and **kwargs is used in some functions? Create a function each for *args and **kwargs to\n",
    "demonstrate their use."
   ]
  },
  {
   "cell_type": "markdown",
   "id": "a194017a-1f77-403b-a0c1-74e92148b0b1",
   "metadata": {},
   "source": [
    "*args and **kwargs are used in Python functions to allow for variable-length arguments.\n",
    "\n",
    "*args is used to pass a variable number of non-keyword arguments to a function. It allows the function to accept any number of arguments passed to it and store them in a tuple.\n",
    "\n",
    "**kwargs is used to pass a variable number of keyword arguments to a function. It allows the function to accept any number of keyword arguments passed to it and store them in a dictionary.\n",
    "Here's an example of a function that uses *args:\n",
    "\n",
    "def sum_numbers(*args):\n",
    "    total = 0\n",
    "    for number in args:\n",
    "        total += number\n",
    "    return total\n",
    "        "
   ]
  },
  {
   "cell_type": "markdown",
   "id": "0da550f0-9d98-421d-90aa-494be3e87b68",
   "metadata": {},
   "source": [
    "Here's an example of a function that uses **kwargs:\n",
    "\n",
    "def print_details(**kwargs):\n",
    "    for key, value in kwargs.items():\n",
    "        print(f\"{key}: {value}\")\n",
    "        \n",
    "In this function, we use **kwargs to accept a variable number of keyword arguments. We loop through the dictionary of keyword arguments passed to the function using the items() method, \n",
    "and print each key-value pair on a separate line.\n",
    "\n",
    "You can call these functions with different arguments, like this:"
   ]
  },
  {
   "cell_type": "code",
   "execution_count": 11,
   "id": "a17ac94b-81a6-4e6d-bda1-06af6c6b5805",
   "metadata": {},
   "outputs": [
    {
     "name": "stdout",
     "output_type": "stream",
     "text": [
      "10\n",
      "name: John\n",
      "age: 25\n",
      "city: New York\n"
     ]
    }
   ],
   "source": [
    "def sum_numbers(*args):\n",
    "    total = 0\n",
    "    for number in args:\n",
    "        total += number\n",
    "    return total\n",
    "\n",
    "def print_details(**kwargs):\n",
    "    for key, value in kwargs.items():\n",
    "        print(f\"{key}: {value}\")\n",
    "\n",
    "result = sum_numbers(1, 2, 3, 4)\n",
    "print(result)  \n",
    "\n",
    "print_details(name=\"John\", age=25, city=\"New York\")\n"
   ]
  },
  {
   "cell_type": "markdown",
   "id": "99de63e4-93ee-4fb5-ae6c-b6afa3ad830d",
   "metadata": {},
   "source": [
    "Q3. What is an iterator in python? Name the method used to initialise the iterator object and the method used for iteration. Use these methods to print the first five elements of the given \n",
    "\n",
    "list [2, 4, 6, 8, 10, 12, 14, 16, 18, 20]."
   ]
  },
  {
   "cell_type": "markdown",
   "id": "db7f018b-32f4-4ea3-934b-1c114b468565",
   "metadata": {},
   "source": [
    "In Python, an iterator is an object that allows you to traverse through all the elements of a collection (such as a list or a tuple) one at a time. It implements the iterator protocol, \n",
    "which consists of two methods: 1. __iter__() and 2. __next__().\n",
    "\n",
    "The __iter__() method is used to initialize the iterator object and return the object itself. The __next__() method is used to get the next element of the collection. When there are no more elements left, the __next__() method raises the StopIteration exception."
   ]
  },
  {
   "cell_type": "code",
   "execution_count": 14,
   "id": "855b4773-302f-44ed-a075-02c9f2c08537",
   "metadata": {},
   "outputs": [
    {
     "name": "stdout",
     "output_type": "stream",
     "text": [
      "2\n",
      "4\n",
      "6\n",
      "8\n",
      "10\n"
     ]
    }
   ],
   "source": [
    "# Define the list\n",
    "list = [2, 4, 6, 8, 10, 12, 14, 16, 18, 20]\n",
    "\n",
    "# Get an iterator object for the list\n",
    "_iter = iter(list)\n",
    "\n",
    "# Iterate through the first five elements of the list\n",
    "for i in range(5):\n",
    "    print(next(_iter))\n"
   ]
  },
  {
   "cell_type": "markdown",
   "id": "c9cb8a10-2f2f-4c2c-ad44-6ce326480526",
   "metadata": {},
   "source": [
    "Q4. What is a generator function in python? Why yield keyword is used? Give an example of a generator function."
   ]
  },
  {
   "cell_type": "markdown",
   "id": "68274fc7-6b09-436b-bc0e-b062e1da222d",
   "metadata": {},
   "source": [
    "A generator function in Python is a type of function that allows you to generate a sequence of values on-the-fly without creating a full list or other data structure to store all the values in memory at once.\n",
    "\n",
    "Instead, a generator function uses the yield keyword to pause the function and save its current state, allowing it to resume where it left off the next time it is called.\n",
    "\n",
    "The yield keyword is used to indicate where the generator function should pause and save its state. When the generator function is called again, it resumes execution from where it left off, with all local variables retaining their values.\n",
    "\n",
    "Here's an example of a generator function that generates the Fibonacci sequence:"
   ]
  },
  {
   "cell_type": "code",
   "execution_count": 16,
   "id": "97644d8f-c83e-49eb-a34e-eadeef6ba685",
   "metadata": {},
   "outputs": [
    {
     "name": "stdout",
     "output_type": "stream",
     "text": [
      "0\n",
      "1\n",
      "1\n",
      "2\n",
      "3\n",
      "5\n",
      "8\n",
      "13\n",
      "21\n",
      "34\n",
      "55\n",
      "89\n"
     ]
    }
   ],
   "source": [
    "#Here's an example of a generator function that generates the Fibonacci sequence:\n",
    "def fibonacci():\n",
    "    a, b = 0, 1\n",
    "    while True:\n",
    "        yield a\n",
    "        a, b = b, a + b\n",
    "# Iterate over the first 10 numbers in the Fibonacci sequence\n",
    "for num in fibonacci():\n",
    "    if num > 100:\n",
    "        break\n",
    "    print(num)\n"
   ]
  },
  {
   "cell_type": "markdown",
   "id": "43829e4b-21b0-47f1-a2d5-f772d9d424f7",
   "metadata": {},
   "source": [
    "Q5. Create a generator function for prime numbers less than 1000. Use the next() method to print the first 20 prime numbers."
   ]
  },
  {
   "cell_type": "code",
   "execution_count": 18,
   "id": "1fff2054-e383-43b5-8ac0-d8824f0195e9",
   "metadata": {},
   "outputs": [
    {
     "name": "stdout",
     "output_type": "stream",
     "text": [
      "2\n",
      "3\n",
      "5\n",
      "7\n",
      "11\n",
      "13\n",
      "17\n",
      "19\n",
      "23\n",
      "29\n",
      "31\n",
      "37\n",
      "41\n",
      "43\n",
      "47\n",
      "53\n",
      "59\n",
      "61\n",
      "67\n",
      "71\n"
     ]
    }
   ],
   "source": [
    "#Here's the generator function that yields prime numbers less than 1000:\n",
    "def primes():\n",
    "    yield 2\n",
    "    prime_list = [2]\n",
    "    n = 3\n",
    "    while n < 1000:\n",
    "        if all(n % prime != 0 for prime in prime_list):\n",
    "            yield n\n",
    "            prime_list.append(n)\n",
    "        n += 2\n",
    "#To print the first 20 prime numbers generated by this function, we can use the next() method in a loop.\n",
    "prime_gen = primes()\n",
    "for i in range(20):\n",
    "    print(next(prime_gen))\n"
   ]
  },
  {
   "cell_type": "code",
   "execution_count": null,
   "id": "5a923fdc-ce53-4bb2-8cd7-41cab8d3490b",
   "metadata": {},
   "outputs": [],
   "source": []
  }
 ],
 "metadata": {
  "kernelspec": {
   "display_name": "Python 3 (ipykernel)",
   "language": "python",
   "name": "python3"
  },
  "language_info": {
   "codemirror_mode": {
    "name": "ipython",
    "version": 3
   },
   "file_extension": ".py",
   "mimetype": "text/x-python",
   "name": "python",
   "nbconvert_exporter": "python",
   "pygments_lexer": "ipython3",
   "version": "3.10.8"
  }
 },
 "nbformat": 4,
 "nbformat_minor": 5
}
